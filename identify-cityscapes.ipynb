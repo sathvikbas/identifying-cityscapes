{
 "cells": [
  {
   "cell_type": "code",
   "execution_count": 1,
   "id": "938a150d",
   "metadata": {
    "id": "938a150d"
   },
   "outputs": [],
   "source": [
    "import numpy as np\n",
    "import tensorflow as tf\n",
    "from tensorflow import keras\n",
    "from tensorflow.keras import layers, optimizers\n",
    "import matplotlib.pyplot as plt\n",
    "from tensorflow.keras.preprocessing import image_dataset_from_directory\n"
   ]
  },
  {
   "cell_type": "code",
   "execution_count": 2,
   "id": "g5IMganfXT61",
   "metadata": {
    "colab": {
     "base_uri": "https://localhost:8080/",
     "height": 77
    },
    "id": "g5IMganfXT61",
    "outputId": "e97bdd10-bbcb-43f0-db07-54f84de5fe66"
   },
   "outputs": [
    {
     "data": {
      "text/html": [
       "\n",
       "     <input type=\"file\" id=\"files-70384348-9406-411d-ac5f-712dc2f5b170\" name=\"files[]\" multiple disabled\n",
       "        style=\"border:none\" />\n",
       "     <output id=\"result-70384348-9406-411d-ac5f-712dc2f5b170\">\n",
       "      Upload widget is only available when the cell has been executed in the\n",
       "      current browser session. Please rerun this cell to enable.\n",
       "      </output>\n",
       "      <script>// Copyright 2017 Google LLC\n",
       "//\n",
       "// Licensed under the Apache License, Version 2.0 (the \"License\");\n",
       "// you may not use this file except in compliance with the License.\n",
       "// You may obtain a copy of the License at\n",
       "//\n",
       "//      http://www.apache.org/licenses/LICENSE-2.0\n",
       "//\n",
       "// Unless required by applicable law or agreed to in writing, software\n",
       "// distributed under the License is distributed on an \"AS IS\" BASIS,\n",
       "// WITHOUT WARRANTIES OR CONDITIONS OF ANY KIND, either express or implied.\n",
       "// See the License for the specific language governing permissions and\n",
       "// limitations under the License.\n",
       "\n",
       "/**\n",
       " * @fileoverview Helpers for google.colab Python module.\n",
       " */\n",
       "(function(scope) {\n",
       "function span(text, styleAttributes = {}) {\n",
       "  const element = document.createElement('span');\n",
       "  element.textContent = text;\n",
       "  for (const key of Object.keys(styleAttributes)) {\n",
       "    element.style[key] = styleAttributes[key];\n",
       "  }\n",
       "  return element;\n",
       "}\n",
       "\n",
       "// Max number of bytes which will be uploaded at a time.\n",
       "const MAX_PAYLOAD_SIZE = 100 * 1024;\n",
       "\n",
       "function _uploadFiles(inputId, outputId) {\n",
       "  const steps = uploadFilesStep(inputId, outputId);\n",
       "  const outputElement = document.getElementById(outputId);\n",
       "  // Cache steps on the outputElement to make it available for the next call\n",
       "  // to uploadFilesContinue from Python.\n",
       "  outputElement.steps = steps;\n",
       "\n",
       "  return _uploadFilesContinue(outputId);\n",
       "}\n",
       "\n",
       "// This is roughly an async generator (not supported in the browser yet),\n",
       "// where there are multiple asynchronous steps and the Python side is going\n",
       "// to poll for completion of each step.\n",
       "// This uses a Promise to block the python side on completion of each step,\n",
       "// then passes the result of the previous step as the input to the next step.\n",
       "function _uploadFilesContinue(outputId) {\n",
       "  const outputElement = document.getElementById(outputId);\n",
       "  const steps = outputElement.steps;\n",
       "\n",
       "  const next = steps.next(outputElement.lastPromiseValue);\n",
       "  return Promise.resolve(next.value.promise).then((value) => {\n",
       "    // Cache the last promise value to make it available to the next\n",
       "    // step of the generator.\n",
       "    outputElement.lastPromiseValue = value;\n",
       "    return next.value.response;\n",
       "  });\n",
       "}\n",
       "\n",
       "/**\n",
       " * Generator function which is called between each async step of the upload\n",
       " * process.\n",
       " * @param {string} inputId Element ID of the input file picker element.\n",
       " * @param {string} outputId Element ID of the output display.\n",
       " * @return {!Iterable<!Object>} Iterable of next steps.\n",
       " */\n",
       "function* uploadFilesStep(inputId, outputId) {\n",
       "  const inputElement = document.getElementById(inputId);\n",
       "  inputElement.disabled = false;\n",
       "\n",
       "  const outputElement = document.getElementById(outputId);\n",
       "  outputElement.innerHTML = '';\n",
       "\n",
       "  const pickedPromise = new Promise((resolve) => {\n",
       "    inputElement.addEventListener('change', (e) => {\n",
       "      resolve(e.target.files);\n",
       "    });\n",
       "  });\n",
       "\n",
       "  const cancel = document.createElement('button');\n",
       "  inputElement.parentElement.appendChild(cancel);\n",
       "  cancel.textContent = 'Cancel upload';\n",
       "  const cancelPromise = new Promise((resolve) => {\n",
       "    cancel.onclick = () => {\n",
       "      resolve(null);\n",
       "    };\n",
       "  });\n",
       "\n",
       "  // Wait for the user to pick the files.\n",
       "  const files = yield {\n",
       "    promise: Promise.race([pickedPromise, cancelPromise]),\n",
       "    response: {\n",
       "      action: 'starting',\n",
       "    }\n",
       "  };\n",
       "\n",
       "  cancel.remove();\n",
       "\n",
       "  // Disable the input element since further picks are not allowed.\n",
       "  inputElement.disabled = true;\n",
       "\n",
       "  if (!files) {\n",
       "    return {\n",
       "      response: {\n",
       "        action: 'complete',\n",
       "      }\n",
       "    };\n",
       "  }\n",
       "\n",
       "  for (const file of files) {\n",
       "    const li = document.createElement('li');\n",
       "    li.append(span(file.name, {fontWeight: 'bold'}));\n",
       "    li.append(span(\n",
       "        `(${file.type || 'n/a'}) - ${file.size} bytes, ` +\n",
       "        `last modified: ${\n",
       "            file.lastModifiedDate ? file.lastModifiedDate.toLocaleDateString() :\n",
       "                                    'n/a'} - `));\n",
       "    const percent = span('0% done');\n",
       "    li.appendChild(percent);\n",
       "\n",
       "    outputElement.appendChild(li);\n",
       "\n",
       "    const fileDataPromise = new Promise((resolve) => {\n",
       "      const reader = new FileReader();\n",
       "      reader.onload = (e) => {\n",
       "        resolve(e.target.result);\n",
       "      };\n",
       "      reader.readAsArrayBuffer(file);\n",
       "    });\n",
       "    // Wait for the data to be ready.\n",
       "    let fileData = yield {\n",
       "      promise: fileDataPromise,\n",
       "      response: {\n",
       "        action: 'continue',\n",
       "      }\n",
       "    };\n",
       "\n",
       "    // Use a chunked sending to avoid message size limits. See b/62115660.\n",
       "    let position = 0;\n",
       "    do {\n",
       "      const length = Math.min(fileData.byteLength - position, MAX_PAYLOAD_SIZE);\n",
       "      const chunk = new Uint8Array(fileData, position, length);\n",
       "      position += length;\n",
       "\n",
       "      const base64 = btoa(String.fromCharCode.apply(null, chunk));\n",
       "      yield {\n",
       "        response: {\n",
       "          action: 'append',\n",
       "          file: file.name,\n",
       "          data: base64,\n",
       "        },\n",
       "      };\n",
       "\n",
       "      let percentDone = fileData.byteLength === 0 ?\n",
       "          100 :\n",
       "          Math.round((position / fileData.byteLength) * 100);\n",
       "      percent.textContent = `${percentDone}% done`;\n",
       "\n",
       "    } while (position < fileData.byteLength);\n",
       "  }\n",
       "\n",
       "  // All done.\n",
       "  yield {\n",
       "    response: {\n",
       "      action: 'complete',\n",
       "    }\n",
       "  };\n",
       "}\n",
       "\n",
       "scope.google = scope.google || {};\n",
       "scope.google.colab = scope.google.colab || {};\n",
       "scope.google.colab._files = {\n",
       "  _uploadFiles,\n",
       "  _uploadFilesContinue,\n",
       "};\n",
       "})(self);\n",
       "</script> "
      ],
      "text/plain": [
       "<IPython.core.display.HTML object>"
      ]
     },
     "metadata": {},
     "output_type": "display_data"
    },
    {
     "name": "stdout",
     "output_type": "stream",
     "text": [
      "Saving archive.zip to archive.zip\n"
     ]
    }
   ],
   "source": [
    "from google.colab import files\n",
    "files.upload()"
   ]
  },
  {
   "cell_type": "code",
   "execution_count": 5,
   "id": "46iP0Wl-Zp26",
   "metadata": {
    "colab": {
     "base_uri": "https://localhost:8080/"
    },
    "id": "46iP0Wl-Zp26",
    "outputId": "64854d02-04b0-4403-870a-b32709b5a0d0"
   },
   "outputs": [
    {
     "name": "stdout",
     "output_type": "stream",
     "text": [
      "Archive:  archive.zip\n",
      "replace Cityscape Dataset/Bridge/001.jpg? [y]es, [n]o, [A]ll, [N]one, [r]ename: "
     ]
    }
   ],
   "source": [
    "!unzip archive.zip"
   ]
  },
  {
   "cell_type": "code",
   "execution_count": 33,
   "id": "388f1790",
   "metadata": {
    "colab": {
     "base_uri": "https://localhost:8080/"
    },
    "id": "388f1790",
    "outputId": "d89a4932-04a2-4faa-e2b6-e51b6ba19765"
   },
   "outputs": [
    {
     "name": "stdout",
     "output_type": "stream",
     "text": [
      "Found 8000 files belonging to 10 classes.\n"
     ]
    }
   ],
   "source": [
    "\n",
    "data_path = \"/content/Cityscape Dataset/\"\n",
    "\n",
    "dataset = image_dataset_from_directory(data_path,\n",
    "                                       image_size=(128, 128),\n",
    "                                       batch_size=125,\n",
    "                                       label_mode='int')\n",
    "\n",
    "class_names = dataset.class_names"
   ]
  },
  {
   "cell_type": "code",
   "execution_count": 34,
   "id": "72957f7a",
   "metadata": {
    "id": "72957f7a"
   },
   "outputs": [],
   "source": [
    "\n",
    "\n",
    "# for images, labels in dataset.take(1):\n",
    "#     plt.figure(figsize=(10, 10))\n",
    "#     for i in range(9):\n",
    "#         ax = plt.subplot(3, 3, i + 1)\n",
    "#         plt.imshow(images[i].numpy().astype(\"uint8\"))\n",
    "#         plt.title(class_names[labels[i]])\n",
    "#         plt.axis(\"off\")\n"
   ]
  },
  {
   "cell_type": "code",
   "execution_count": 35,
   "id": "247b9050",
   "metadata": {
    "id": "247b9050"
   },
   "outputs": [],
   "source": [
    "def normalize(image, label):\n",
    "    image = tf.cast(image, tf.float32) / 255.0\n",
    "    label = tf.cast(label, tf.int64)\n",
    "    return image, label\n",
    "\n",
    "dataset = dataset.map(normalize)\n"
   ]
  },
  {
   "cell_type": "code",
   "execution_count": 36,
   "id": "fefc4dd7",
   "metadata": {
    "id": "fefc4dd7"
   },
   "outputs": [],
   "source": [
    "num_batches = 8\n",
    "train_size = int(0.8 * num_batches)\n",
    "train_dataset = dataset.take(train_size)\n",
    "test_dataset = dataset.skip(train_size)\n"
   ]
  },
  {
   "cell_type": "code",
   "execution_count": 37,
   "id": "mkBhyW3i8eM5",
   "metadata": {
    "colab": {
     "base_uri": "https://localhost:8080/"
    },
    "id": "mkBhyW3i8eM5",
    "outputId": "751a142d-c59a-4fe6-ccdf-a10fd37b8a05"
   },
   "outputs": [
    {
     "name": "stdout",
     "output_type": "stream",
     "text": [
      "(125, 128, 128, 3)\n",
      "(125,)\n"
     ]
    }
   ],
   "source": [
    "for images, labels in train_dataset.take(1):\n",
    "  print(images.shape)\n",
    "  print(labels.shape)"
   ]
  },
  {
   "cell_type": "code",
   "execution_count": 38,
   "id": "e1VfkX4T8uDb",
   "metadata": {
    "colab": {
     "base_uri": "https://localhost:8080/"
    },
    "id": "e1VfkX4T8uDb",
    "outputId": "2656f322-9964-4287-8661-9699bb85e61b"
   },
   "outputs": [
    {
     "name": "stdout",
     "output_type": "stream",
     "text": [
      "(125, 128, 128, 3)\n",
      "(125,)\n"
     ]
    }
   ],
   "source": [
    "for images, labels in test_dataset.take(1):\n",
    "  print(images.shape)\n",
    "  print(labels.shape)"
   ]
  },
  {
   "cell_type": "code",
   "execution_count": 47,
   "id": "bed0685c",
   "metadata": {
    "colab": {
     "base_uri": "https://localhost:8080/"
    },
    "id": "bed0685c",
    "outputId": "5d1217c9-b546-48d1-c6da-7e92cc293917"
   },
   "outputs": [
    {
     "name": "stdout",
     "output_type": "stream",
     "text": [
      "Model: \"sequential_4\"\n",
      "_________________________________________________________________\n",
      " Layer (type)                Output Shape              Param #   \n",
      "=================================================================\n",
      " conv2d_30 (Conv2D)          (None, 128, 128, 32)      896       \n",
      "                                                                 \n",
      " conv2d_31 (Conv2D)          (None, 128, 128, 32)      9248      \n",
      "                                                                 \n",
      " max_pooling2d_15 (MaxPooli  (None, 64, 64, 32)        0         \n",
      " ng2D)                                                           \n",
      "                                                                 \n",
      " dropout_10 (Dropout)        (None, 64, 64, 32)        0         \n",
      "                                                                 \n",
      " conv2d_32 (Conv2D)          (None, 64, 64, 64)        18496     \n",
      "                                                                 \n",
      " conv2d_33 (Conv2D)          (None, 64, 64, 64)        36928     \n",
      "                                                                 \n",
      " max_pooling2d_16 (MaxPooli  (None, 32, 32, 64)        0         \n",
      " ng2D)                                                           \n",
      "                                                                 \n",
      " conv2d_34 (Conv2D)          (None, 32, 32, 128)       73856     \n",
      "                                                                 \n",
      " conv2d_35 (Conv2D)          (None, 32, 32, 128)       147584    \n",
      "                                                                 \n",
      " max_pooling2d_17 (MaxPooli  (None, 16, 16, 128)       0         \n",
      " ng2D)                                                           \n",
      "                                                                 \n",
      " dropout_11 (Dropout)        (None, 16, 16, 128)       0         \n",
      "                                                                 \n",
      " flatten_4 (Flatten)         (None, 32768)             0         \n",
      "                                                                 \n",
      " dense_12 (Dense)            (None, 128)               4194432   \n",
      "                                                                 \n",
      " dropout_12 (Dropout)        (None, 128)               0         \n",
      "                                                                 \n",
      " dense_13 (Dense)            (None, 64)                8256      \n",
      "                                                                 \n",
      " dropout_13 (Dropout)        (None, 64)                0         \n",
      "                                                                 \n",
      " dense_14 (Dense)            (None, 10)                650       \n",
      "                                                                 \n",
      "=================================================================\n",
      "Total params: 4490346 (17.13 MB)\n",
      "Trainable params: 4490346 (17.13 MB)\n",
      "Non-trainable params: 0 (0.00 Byte)\n",
      "_________________________________________________________________\n"
     ]
    }
   ],
   "source": [
    "model = keras.Sequential([\n",
    "    layers.Conv2D(32, (3, 3), input_shape=(128,128, 3), activation='relu', padding='same'),\n",
    "    layers.Conv2D(32, (3, 3), activation='relu', padding='same'),\n",
    "    layers.MaxPool2D(pool_size=2, strides=2),\n",
    "    layers.Dropout(0.25),\n",
    "\n",
    "    layers.Conv2D(64, (3, 3), activation='relu', padding='same'),\n",
    "    layers.Conv2D(64, (3, 3), activation='relu', padding='same'),\n",
    "    layers.MaxPool2D(pool_size=2, strides=2),\n",
    "\n",
    "    layers.Conv2D(128, (3, 3), activation='relu', padding='same'),\n",
    "    layers.Conv2D(128, (3, 3), activation='relu', padding='same'),\n",
    "    layers.MaxPool2D(pool_size=2, strides=2),\n",
    "    layers.Dropout(0.25),\n",
    "\n",
    "    layers.Flatten(),\n",
    "    layers.Dense(128, activation='tanh'),\n",
    "    layers.Dropout(0.5),\n",
    "    layers.Dense(64, activation='tanh'),\n",
    "    layers.Dropout(0.5),\n",
    "    layers.Dense(len(class_names), activation='softmax')\n",
    "])\n",
    "\n",
    "model.summary()\n"
   ]
  },
  {
   "cell_type": "code",
   "execution_count": 48,
   "id": "0720705f",
   "metadata": {
    "id": "0720705f"
   },
   "outputs": [],
   "source": [
    "my_optimizer = optimizers.Adam(learning_rate=0.001)\n",
    "\n",
    "model.compile(\n",
    "    optimizer=my_optimizer,\n",
    "    loss=keras.losses.SparseCategoricalCrossentropy(),\n",
    "    metrics=['accuracy', 'mse']\n",
    ")\n"
   ]
  },
  {
   "cell_type": "code",
   "execution_count": 49,
   "id": "951cf4b9",
   "metadata": {
    "colab": {
     "base_uri": "https://localhost:8080/"
    },
    "id": "951cf4b9",
    "outputId": "59b77a85-70c6-4ed0-e9e0-d05840222e80"
   },
   "outputs": [
    {
     "name": "stdout",
     "output_type": "stream",
     "text": [
      "Epoch 1/50\n",
      "6/6 [==============================] - 4s 205ms/step - loss: 2.4198 - accuracy: 0.0960 - mse: 28.0260\n",
      "Epoch 2/50\n",
      "6/6 [==============================] - 2s 191ms/step - loss: 2.3023 - accuracy: 0.1280 - mse: 28.9465\n",
      "Epoch 3/50\n",
      "6/6 [==============================] - 2s 189ms/step - loss: 2.2955 - accuracy: 0.1147 - mse: 27.5050\n",
      "Epoch 4/50\n",
      "6/6 [==============================] - 2s 196ms/step - loss: 2.2616 - accuracy: 0.1387 - mse: 28.4129\n",
      "Epoch 5/50\n",
      "6/6 [==============================] - 2s 188ms/step - loss: 2.2396 - accuracy: 0.1600 - mse: 29.1181\n",
      "Epoch 6/50\n",
      "6/6 [==============================] - 2s 191ms/step - loss: 2.2250 - accuracy: 0.1627 - mse: 27.9645\n",
      "Epoch 7/50\n",
      "6/6 [==============================] - 2s 192ms/step - loss: 2.1692 - accuracy: 0.1947 - mse: 28.7768\n",
      "Epoch 8/50\n",
      "6/6 [==============================] - 2s 189ms/step - loss: 2.1644 - accuracy: 0.2040 - mse: 27.8817\n",
      "Epoch 9/50\n",
      "6/6 [==============================] - 2s 193ms/step - loss: 2.0939 - accuracy: 0.2360 - mse: 27.9777\n",
      "Epoch 10/50\n",
      "6/6 [==============================] - 2s 195ms/step - loss: 2.0598 - accuracy: 0.2293 - mse: 28.8307\n",
      "Epoch 11/50\n",
      "6/6 [==============================] - 2s 190ms/step - loss: 2.0460 - accuracy: 0.2413 - mse: 26.6827\n",
      "Epoch 12/50\n",
      "6/6 [==============================] - 2s 195ms/step - loss: 1.9748 - accuracy: 0.2707 - mse: 28.1541\n",
      "Epoch 13/50\n",
      "6/6 [==============================] - 2s 197ms/step - loss: 1.9704 - accuracy: 0.2507 - mse: 27.1732\n",
      "Epoch 14/50\n",
      "6/6 [==============================] - 2s 195ms/step - loss: 1.9079 - accuracy: 0.3053 - mse: 26.5614\n",
      "Epoch 15/50\n",
      "6/6 [==============================] - 2s 196ms/step - loss: 1.8957 - accuracy: 0.2840 - mse: 28.5449\n",
      "Epoch 16/50\n",
      "6/6 [==============================] - 2s 195ms/step - loss: 1.7963 - accuracy: 0.3307 - mse: 28.5942\n",
      "Epoch 17/50\n",
      "6/6 [==============================] - 2s 202ms/step - loss: 1.7787 - accuracy: 0.3093 - mse: 29.1679\n",
      "Epoch 18/50\n",
      "6/6 [==============================] - 2s 193ms/step - loss: 1.7493 - accuracy: 0.3480 - mse: 27.6753\n",
      "Epoch 19/50\n",
      "6/6 [==============================] - 2s 191ms/step - loss: 1.7390 - accuracy: 0.3640 - mse: 27.8751\n",
      "Epoch 20/50\n",
      "6/6 [==============================] - 2s 193ms/step - loss: 1.6493 - accuracy: 0.3813 - mse: 27.4457\n",
      "Epoch 21/50\n",
      "6/6 [==============================] - 2s 193ms/step - loss: 1.7179 - accuracy: 0.3707 - mse: 28.3346\n",
      "Epoch 22/50\n",
      "6/6 [==============================] - 2s 195ms/step - loss: 1.5917 - accuracy: 0.3813 - mse: 29.0656\n",
      "Epoch 23/50\n",
      "6/6 [==============================] - 2s 195ms/step - loss: 1.6042 - accuracy: 0.4093 - mse: 26.3776\n",
      "Epoch 24/50\n",
      "6/6 [==============================] - 2s 195ms/step - loss: 1.4928 - accuracy: 0.4653 - mse: 28.4075\n",
      "Epoch 25/50\n",
      "6/6 [==============================] - 2s 193ms/step - loss: 1.5099 - accuracy: 0.4493 - mse: 28.1919\n",
      "Epoch 26/50\n",
      "6/6 [==============================] - 2s 194ms/step - loss: 1.5196 - accuracy: 0.4653 - mse: 28.1280\n",
      "Epoch 27/50\n",
      "6/6 [==============================] - 2s 193ms/step - loss: 1.4679 - accuracy: 0.4653 - mse: 28.4069\n",
      "Epoch 28/50\n",
      "6/6 [==============================] - 2s 191ms/step - loss: 1.3808 - accuracy: 0.4907 - mse: 28.2127\n",
      "Epoch 29/50\n",
      "6/6 [==============================] - 2s 201ms/step - loss: 1.3812 - accuracy: 0.5067 - mse: 27.9497\n",
      "Epoch 30/50\n",
      "6/6 [==============================] - 2s 190ms/step - loss: 1.3464 - accuracy: 0.5213 - mse: 27.0756\n",
      "Epoch 31/50\n",
      "6/6 [==============================] - 2s 191ms/step - loss: 1.2327 - accuracy: 0.5693 - mse: 29.1117\n",
      "Epoch 32/50\n",
      "6/6 [==============================] - 2s 192ms/step - loss: 1.1527 - accuracy: 0.5827 - mse: 29.2204\n",
      "Epoch 33/50\n",
      "6/6 [==============================] - 2s 193ms/step - loss: 1.1722 - accuracy: 0.5680 - mse: 28.8816\n",
      "Epoch 34/50\n",
      "6/6 [==============================] - 2s 192ms/step - loss: 1.1684 - accuracy: 0.5840 - mse: 28.1959\n",
      "Epoch 35/50\n",
      "6/6 [==============================] - 2s 195ms/step - loss: 1.0666 - accuracy: 0.6280 - mse: 29.4133\n",
      "Epoch 36/50\n",
      "6/6 [==============================] - 2s 191ms/step - loss: 1.0477 - accuracy: 0.6493 - mse: 28.3523\n",
      "Epoch 37/50\n",
      "6/6 [==============================] - 2s 193ms/step - loss: 1.0308 - accuracy: 0.6333 - mse: 26.9635\n",
      "Epoch 38/50\n",
      "6/6 [==============================] - 2s 194ms/step - loss: 0.9799 - accuracy: 0.6773 - mse: 28.6648\n",
      "Epoch 39/50\n",
      "6/6 [==============================] - 2s 194ms/step - loss: 0.9625 - accuracy: 0.6520 - mse: 28.2806\n",
      "Epoch 40/50\n",
      "6/6 [==============================] - 2s 193ms/step - loss: 0.8615 - accuracy: 0.7253 - mse: 28.7197\n",
      "Epoch 41/50\n",
      "6/6 [==============================] - 2s 202ms/step - loss: 0.8259 - accuracy: 0.7080 - mse: 28.4748\n",
      "Epoch 42/50\n",
      "6/6 [==============================] - 2s 195ms/step - loss: 0.7424 - accuracy: 0.7627 - mse: 28.0571\n",
      "Epoch 43/50\n",
      "6/6 [==============================] - 2s 196ms/step - loss: 0.7726 - accuracy: 0.7440 - mse: 27.8976\n",
      "Epoch 44/50\n",
      "6/6 [==============================] - 2s 193ms/step - loss: 0.7755 - accuracy: 0.7413 - mse: 27.2740\n",
      "Epoch 45/50\n",
      "6/6 [==============================] - 2s 196ms/step - loss: 0.6997 - accuracy: 0.7893 - mse: 28.8820\n",
      "Epoch 46/50\n",
      "6/6 [==============================] - 2s 194ms/step - loss: 0.6695 - accuracy: 0.7747 - mse: 27.9922\n",
      "Epoch 47/50\n",
      "6/6 [==============================] - 2s 202ms/step - loss: 0.6673 - accuracy: 0.7800 - mse: 27.5794\n",
      "Epoch 48/50\n",
      "6/6 [==============================] - 2s 193ms/step - loss: 0.6565 - accuracy: 0.7893 - mse: 28.5047\n",
      "Epoch 49/50\n",
      "6/6 [==============================] - 2s 196ms/step - loss: 0.5276 - accuracy: 0.8240 - mse: 28.4598\n",
      "Epoch 50/50\n",
      "6/6 [==============================] - 2s 196ms/step - loss: 0.4861 - accuracy: 0.8413 - mse: 27.5860\n"
     ]
    },
    {
     "data": {
      "text/plain": [
       "<keras.src.callbacks.History at 0x7f30737c5cc0>"
      ]
     },
     "execution_count": 49,
     "metadata": {},
     "output_type": "execute_result"
    }
   ],
   "source": [
    "epochs_count = 50\n",
    "model.fit(train_dataset, epochs=epochs_count)\n"
   ]
  },
  {
   "cell_type": "code",
   "execution_count": 50,
   "id": "waz5oWLsah83",
   "metadata": {
    "colab": {
     "base_uri": "https://localhost:8080/"
    },
    "id": "waz5oWLsah83",
    "outputId": "91bc1dbd-7641-4381-83da-62dc5baabe11"
   },
   "outputs": [
    {
     "name": "stdout",
     "output_type": "stream",
     "text": [
      "58/58 [==============================] - 6s 82ms/step - loss: 1.4488 - accuracy: 0.5710 - mse: 27.5520\n"
     ]
    },
    {
     "data": {
      "text/plain": [
       "[1.4487961530685425, 0.5710344910621643, 27.552040100097656]"
      ]
     },
     "execution_count": 50,
     "metadata": {},
     "output_type": "execute_result"
    }
   ],
   "source": [
    "model.evaluate(test_dataset)"
   ]
  },
  {
   "cell_type": "code",
   "execution_count": 1,
   "id": "PNihVkDr9GV2",
   "metadata": {
    "colab": {
     "base_uri": "https://localhost:8080/",
     "height": 1000
    },
    "id": "PNihVkDr9GV2",
    "outputId": "0c6d8dbe-f709-487a-ca72-3f469024b6b5"
   },
   "outputs": [
    {
     "ename": "NameError",
     "evalue": "name 'test_dataset' is not defined",
     "output_type": "error",
     "traceback": [
      "\u001b[0;31m---------------------------------------------------------------------------\u001b[0m",
      "\u001b[0;31mNameError\u001b[0m                                 Traceback (most recent call last)",
      "Input \u001b[0;32mIn [1]\u001b[0m, in \u001b[0;36m<cell line: 1>\u001b[0;34m()\u001b[0m\n\u001b[0;32m----> 1\u001b[0m \u001b[38;5;28;01mfor\u001b[39;00m images, labels \u001b[38;5;129;01min\u001b[39;00m \u001b[43mtest_dataset\u001b[49m\u001b[38;5;241m.\u001b[39mtake(\u001b[38;5;241m1\u001b[39m):\n\u001b[1;32m      2\u001b[0m   predictions \u001b[38;5;241m=\u001b[39m model\u001b[38;5;241m.\u001b[39mpredict(images)\n\u001b[1;32m      3\u001b[0m   predicted_labels \u001b[38;5;241m=\u001b[39m tf\u001b[38;5;241m.\u001b[39margmax(predictions, axis\u001b[38;5;241m=\u001b[39m\u001b[38;5;241m1\u001b[39m)\n",
      "\u001b[0;31mNameError\u001b[0m: name 'test_dataset' is not defined"
     ]
    }
   ],
   "source": [
    "for images, labels in test_dataset.take(1):\n",
    "  predictions = model.predict(images)\n",
    "  predicted_labels = tf.argmax(predictions, axis=1)\n",
    "\n",
    "  for i in range(len(images)):\n",
    "    print(f\"Predicted: {class_names[predicted_labels[i]]}, Actual: {class_names[labels[i]]}\")"
   ]
  },
  {
   "cell_type": "code",
   "execution_count": null,
   "id": "f9p8poWDDl_h",
   "metadata": {
    "id": "f9p8poWDDl_h"
   },
   "outputs": [],
   "source": []
  }
 ],
 "metadata": {
  "accelerator": "GPU",
  "colab": {
   "gpuType": "T4",
   "provenance": []
  },
  "kernelspec": {
   "display_name": "Python 3 (ipykernel)",
   "language": "python",
   "name": "python3"
  },
  "language_info": {
   "codemirror_mode": {
    "name": "ipython",
    "version": 3
   },
   "file_extension": ".py",
   "mimetype": "text/x-python",
   "name": "python",
   "nbconvert_exporter": "python",
   "pygments_lexer": "ipython3",
   "version": "3.9.12"
  }
 },
 "nbformat": 4,
 "nbformat_minor": 5
}
